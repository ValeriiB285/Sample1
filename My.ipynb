{
 "cells": [
  {
   "cell_type": "code",
   "execution_count": 1,
   "id": "c759c719",
   "metadata": {},
   "outputs": [
    {
     "data": {
      "text/plain": [
       "1086117.3483146068"
      ]
     },
     "execution_count": 1,
     "metadata": {},
     "output_type": "execute_result"
    }
   ],
   "source": [
    "2+2\n",
    "5-6\n",
    "5+5\n",
    "96664444/89\n",
    "\n"
   ]
  },
  {
   "cell_type": "code",
   "execution_count": 2,
   "id": "f693f2e0",
   "metadata": {},
   "outputs": [],
   "source": [
    "x1 = 2.2\n"
   ]
  },
  {
   "cell_type": "code",
   "execution_count": 3,
   "id": "91f7a0c7",
   "metadata": {},
   "outputs": [],
   "source": [
    "x2 = \"string\"\n"
   ]
  },
  {
   "cell_type": "code",
   "execution_count": 4,
   "id": "da9e7649",
   "metadata": {},
   "outputs": [],
   "source": [
    "x3 = 3\n"
   ]
  },
  {
   "cell_type": "code",
   "execution_count": 6,
   "id": "3831f6ef",
   "metadata": {},
   "outputs": [],
   "source": [
    "a,b,c = 1,2,3"
   ]
  },
  {
   "cell_type": "code",
   "execution_count": 7,
   "id": "83fac8dd",
   "metadata": {},
   "outputs": [
    {
     "data": {
      "text/plain": [
       "2"
      ]
     },
     "execution_count": 7,
     "metadata": {},
     "output_type": "execute_result"
    }
   ],
   "source": [
    "a*b"
   ]
  },
  {
   "cell_type": "code",
   "execution_count": 8,
   "id": "8df6fa69",
   "metadata": {},
   "outputs": [
    {
     "data": {
      "text/plain": [
       "3.0"
      ]
     },
     "execution_count": 8,
     "metadata": {},
     "output_type": "execute_result"
    }
   ],
   "source": [
    "c/a"
   ]
  },
  {
   "cell_type": "code",
   "execution_count": 10,
   "id": "53d3bccc",
   "metadata": {},
   "outputs": [
    {
     "data": {
      "text/plain": [
       "False"
      ]
     },
     "execution_count": 10,
     "metadata": {},
     "output_type": "execute_result"
    }
   ],
   "source": [
    "t = True\n",
    "f = False\n",
    "t and f \n",
    "not True"
   ]
  },
  {
   "cell_type": "code",
   "execution_count": 11,
   "id": "dc35c790",
   "metadata": {},
   "outputs": [
    {
     "data": {
      "text/plain": [
       "True"
      ]
     },
     "execution_count": 11,
     "metadata": {},
     "output_type": "execute_result"
    }
   ],
   "source": [
    "2 == 2"
   ]
  },
  {
   "cell_type": "code",
   "execution_count": 13,
   "id": "e26d2f12",
   "metadata": {},
   "outputs": [
    {
     "data": {
      "text/plain": [
       "False"
      ]
     },
     "execution_count": 13,
     "metadata": {},
     "output_type": "execute_result"
    }
   ],
   "source": [
    "2 != 2"
   ]
  },
  {
   "cell_type": "code",
   "execution_count": null,
   "id": "039ebe5c",
   "metadata": {},
   "outputs": [],
   "source": []
  },
  {
   "cell_type": "code",
   "execution_count": 12,
   "id": "ce413a14",
   "metadata": {},
   "outputs": [
    {
     "name": "stdout",
     "output_type": "stream",
     "text": [
      "Hello Python,5.5,6!\n",
      "\n",
      "\t\n",
      "John's \\book\n"
     ]
    }
   ],
   "source": [
    "# posjsjsjsj\n",
    "print (\"Hello Python\",5.5,6, sep= \",\", end= \"!\")\n",
    "print (\"\\n\\n\\t\")\n",
    "print ('John\\'s \\\\book')\n"
   ]
  },
  {
   "cell_type": "code",
   "execution_count": 16,
   "id": "4d2ffecd",
   "metadata": {},
   "outputs": [
    {
     "name": "stdout",
     "output_type": "stream",
     "text": [
      "10\n",
      "8\n",
      "3\n",
      "8\n"
     ]
    }
   ],
   "source": [
    "# Математика\n",
    "print (5+5)\n",
    "print (2 ** 3)\n",
    "print (min(5, 3, 5, 7, 9))\n",
    "print (pow(2,3))"
   ]
  },
  {
   "cell_type": "code",
   "execution_count": null,
   "id": "4c145dc4",
   "metadata": {},
   "outputs": [],
   "source": [
    "input (\"Enter number: 56\")"
   ]
  },
  {
   "cell_type": "code",
   "execution_count": null,
   "id": "e76b08f5",
   "metadata": {},
   "outputs": [
    {
     "name": "stdout",
     "output_type": "stream",
     "text": [
      "5\n",
      "Value 7\n"
     ]
    }
   ],
   "source": [
    "number = 5 # int\n",
    "print (number)\n",
    "number = 7\n",
    "print (\"Value\", number)"
   ]
  },
  {
   "cell_type": "code",
   "execution_count": 5,
   "id": "2b378dbe",
   "metadata": {},
   "outputs": [
    {
     "name": "stdout",
     "output_type": "stream",
     "text": [
      "Value: 4460.5665\n"
     ]
    }
   ],
   "source": [
    "num = 4455.5665 # float\n",
    "word = \"Hello\" # str\n",
    "boolean = False\n",
    "info = \"Value:\"\n",
    "num2 = 5\n",
    "print(info, num + num2)"
   ]
  },
  {
   "cell_type": "code",
   "execution_count": 1,
   "id": "718817da",
   "metadata": {},
   "outputs": [
    {
     "name": "stdout",
     "output_type": "stream",
     "text": [
      "4556\n"
     ]
    }
   ],
   "source": [
    "a = input(\"Enter num1: \")\n",
    "b = input(\"Enter num2: \")\n",
    "\n",
    "print(a + b)"
   ]
  }
 ],
 "metadata": {
  "kernelspec": {
   "display_name": "Python 3",
   "language": "python",
   "name": "python3"
  },
  "language_info": {
   "codemirror_mode": {
    "name": "ipython",
    "version": 3
   },
   "file_extension": ".py",
   "mimetype": "text/x-python",
   "name": "python",
   "nbconvert_exporter": "python",
   "pygments_lexer": "ipython3",
   "version": "3.11.9"
  }
 },
 "nbformat": 4,
 "nbformat_minor": 5
}
