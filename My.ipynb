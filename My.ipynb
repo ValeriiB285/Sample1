{
 "cells": [
  {
   "cell_type": "code",
   "execution_count": 1,
   "id": "c759c719",
   "metadata": {},
   "outputs": [
    {
     "data": {
      "text/plain": [
       "1086117.3483146068"
      ]
     },
     "execution_count": 1,
     "metadata": {},
     "output_type": "execute_result"
    }
   ],
   "source": [
    "2+2\n",
    "5-6\n",
    "5+5\n",
    "96664444/89\n",
    "\n"
   ]
  },
  {
   "cell_type": "code",
   "execution_count": 2,
   "id": "f693f2e0",
   "metadata": {},
   "outputs": [],
   "source": [
    "x1 = 2.2\n"
   ]
  },
  {
   "cell_type": "code",
   "execution_count": 3,
   "id": "91f7a0c7",
   "metadata": {},
   "outputs": [],
   "source": [
    "x2 = \"string\"\n"
   ]
  },
  {
   "cell_type": "code",
   "execution_count": 4,
   "id": "da9e7649",
   "metadata": {},
   "outputs": [],
   "source": [
    "x3 = 3\n"
   ]
  },
  {
   "cell_type": "code",
   "execution_count": 6,
   "id": "3831f6ef",
   "metadata": {},
   "outputs": [],
   "source": [
    "a,b,c = 1,2,3"
   ]
  },
  {
   "cell_type": "code",
   "execution_count": 7,
   "id": "83fac8dd",
   "metadata": {},
   "outputs": [
    {
     "data": {
      "text/plain": [
       "2"
      ]
     },
     "execution_count": 7,
     "metadata": {},
     "output_type": "execute_result"
    }
   ],
   "source": [
    "a*b"
   ]
  },
  {
   "cell_type": "code",
   "execution_count": 8,
   "id": "8df6fa69",
   "metadata": {},
   "outputs": [
    {
     "data": {
      "text/plain": [
       "3.0"
      ]
     },
     "execution_count": 8,
     "metadata": {},
     "output_type": "execute_result"
    }
   ],
   "source": [
    "c/a"
   ]
  },
  {
   "cell_type": "code",
   "execution_count": 10,
   "id": "53d3bccc",
   "metadata": {},
   "outputs": [
    {
     "data": {
      "text/plain": [
       "False"
      ]
     },
     "execution_count": 10,
     "metadata": {},
     "output_type": "execute_result"
    }
   ],
   "source": [
    "t = True\n",
    "f = False\n",
    "t and f \n",
    "not True"
   ]
  },
  {
   "cell_type": "code",
   "execution_count": 11,
   "id": "dc35c790",
   "metadata": {},
   "outputs": [
    {
     "data": {
      "text/plain": [
       "True"
      ]
     },
     "execution_count": 11,
     "metadata": {},
     "output_type": "execute_result"
    }
   ],
   "source": [
    "2 == 2"
   ]
  },
  {
   "cell_type": "code",
   "execution_count": 13,
   "id": "e26d2f12",
   "metadata": {},
   "outputs": [
    {
     "data": {
      "text/plain": [
       "False"
      ]
     },
     "execution_count": 13,
     "metadata": {},
     "output_type": "execute_result"
    }
   ],
   "source": [
    "2 != 2"
   ]
  },
  {
   "cell_type": "code",
   "execution_count": null,
   "id": "039ebe5c",
   "metadata": {},
   "outputs": [],
   "source": []
  },
  {
   "cell_type": "code",
   "execution_count": 12,
   "id": "ce413a14",
   "metadata": {},
   "outputs": [
    {
     "name": "stdout",
     "output_type": "stream",
     "text": [
      "Hello Python,5.5,6!\n",
      "\n",
      "\t\n",
      "John's \\book\n"
     ]
    }
   ],
   "source": [
    "# posjsjsjsj\n",
    "print (\"Hello Python\",5.5,6, sep= \",\", end= \"!\")\n",
    "print (\"\\n\\n\\t\")\n",
    "print ('John\\'s \\\\book')\n"
   ]
  },
  {
   "cell_type": "code",
   "execution_count": 16,
   "id": "4d2ffecd",
   "metadata": {},
   "outputs": [
    {
     "name": "stdout",
     "output_type": "stream",
     "text": [
      "10\n",
      "8\n",
      "3\n",
      "8\n"
     ]
    }
   ],
   "source": [
    "# Математика\n",
    "print (5+5)\n",
    "print (2 ** 3)\n",
    "print (min(5, 3, 5, 7, 9))\n",
    "print (pow(2,3))"
   ]
  },
  {
   "cell_type": "code",
   "execution_count": null,
   "id": "4c145dc4",
   "metadata": {},
   "outputs": [],
   "source": [
    "input (\"Enter number: 56\")"
   ]
  },
  {
   "cell_type": "code",
   "execution_count": null,
   "id": "e76b08f5",
   "metadata": {},
   "outputs": [
    {
     "name": "stdout",
     "output_type": "stream",
     "text": [
      "5\n",
      "Value 7\n"
     ]
    }
   ],
   "source": [
    "number = 5 # int\n",
    "print (number)\n",
    "number = 7\n",
    "print (\"Value\", number)"
   ]
  },
  {
   "cell_type": "code",
   "execution_count": 5,
   "id": "2b378dbe",
   "metadata": {},
   "outputs": [
    {
     "name": "stdout",
     "output_type": "stream",
     "text": [
      "Value: 4460.5665\n"
     ]
    }
   ],
   "source": [
    "num = 4455.5665 # float\n",
    "word = \"Hello\" # str\n",
    "boolean = False\n",
    "info = \"Value:\"\n",
    "num2 = 5\n",
    "print(info, num + num2)"
   ]
  },
  {
   "cell_type": "code",
   "execution_count": 1,
   "id": "718817da",
   "metadata": {},
   "outputs": [
    {
     "name": "stdout",
     "output_type": "stream",
     "text": [
      "4556\n"
     ]
    }
   ],
   "source": [
    "a = input(\"Enter num1: \")\n",
    "b = input(\"Enter num2: \")\n",
    "\n",
    "print(a + b)"
   ]
  },
  {
   "cell_type": "code",
   "execution_count": 1,
   "id": "b81c8bd3",
   "metadata": {},
   "outputs": [
    {
     "ename": "SyntaxError",
     "evalue": "invalid character '→' (U+2192) (2881518412.py, line 73)",
     "output_type": "error",
     "traceback": [
      "  \u001b[36mCell\u001b[39m\u001b[36m \u001b[39m\u001b[32mIn[1]\u001b[39m\u001b[32m, line 73\u001b[39m\n\u001b[31m    \u001b[39m\u001b[31m<Text key={index}>{pair[0]} MHz + {pair[1]} MHz → conflict</Text>\u001b[39m\n                                                    ^\n\u001b[31mSyntaxError\u001b[39m\u001b[31m:\u001b[39m invalid character '→' (U+2192)\n"
     ]
    }
   ],
   "source": [
    "import React, { useState } from 'react';\n",
    "import { View, Text, Picker, Button, ScrollView } from 'react-native';\n",
    "import { SafeAreaView } from 'react-native-safe-area-context';\n",
    "\n",
    "const bands = {\n",
    "  A: [5865, 5845, 5825, 5805, 5785, 5765, 5745, 5725],\n",
    "  B: [5733, 5752, 5771, 5790, 5809, 5828, 5847, 5866],\n",
    "  E: [5705, 5685, 5665, 5645, 5885, 5905, 5925, 5945],\n",
    "  F: [5740, 5760, 5780, 5800, 5820, 5840, 5860, 5880],\n",
    "  R: [5658, 5695, 5732, 5769, 5806, 5843, 5880, 5917],\n",
    "};\n",
    "\n",
    "function isIMD(f1, f2, f3) {\n",
    "  return f3 === (2 * f1 - f2) || f3 === (2 * f2 - f1);\n",
    "}\n",
    "\n",
    "function findConflicts(selectedFreq) {\n",
    "  const allFreqs = Object.values(bands).flat();\n",
    "  const conflicts = [];\n",
    "  for (let i = 0; i < allFreqs.length; i++) {\n",
    "    for (let j = 0; j < allFreqs.length; j++) {\n",
    "      const f1 = allFreqs[i];\n",
    "      const f2 = allFreqs[j];\n",
    "      if (f1 === selectedFreq || f2 === selectedFreq) continue;\n",
    "      if (isIMD(f1, f2, selectedFreq)) {\n",
    "        conflicts.push([f1, f2]);\n",
    "      }\n",
    "    }\n",
    "  }\n",
    "  return conflicts;\n",
    "}\n",
    "\n",
    "export default function App() {\n",
    "  const [selectedBand, setSelectedBand] = useState('A');\n",
    "  const [selectedChannel, setSelectedChannel] = useState(0);\n",
    "  const [conflicts, setConflicts] = useState([]);\n",
    "\n",
    "  const handleCheck = () => {\n",
    "    const freq = bands[selectedBand][selectedChannel];\n",
    "    const found = findConflicts(freq);\n",
    "    setConflicts(found);\n",
    "  };\n",
    "\n",
    "  return (\n",
    "    <SafeAreaView style={{ flex: 1, padding: 20 }}>\n",
    "      <Text style={{ fontSize: 20, fontWeight: 'bold' }}>FPV Frequency Checker</Text>\n",
    "\n",
    "      <Text style={{ marginTop: 20 }}>Select Band:</Text>\n",
    "      <Picker selectedValue={selectedBand} onValueChange={setSelectedBand}>\n",
    "        {Object.keys(bands).map((band) => (\n",
    "          <Picker.Item label={band} value={band} key={band} />\n",
    "        ))}\n",
    "      </Picker>\n",
    "\n",
    "      <Text style={{ marginTop: 20 }}>Select Channel:</Text>\n",
    "      <Picker\n",
    "        selectedValue={selectedChannel}\n",
    "        onValueChange={(v) => setSelectedChannel(Number(v))}\n",
    "      >\n",
    "        {[...Array(8)].map((_, i) => (\n",
    "          <Picker.Item label={`Channel ${i + 1}`} value={i} key={i} />\n",
    "        ))}\n",
    "      </Picker>\n",
    "\n",
    "      <Button title=\"Check Compatibility\" onPress={handleCheck} />\n",
    "\n",
    "      <ScrollView style={{ marginTop: 20 }}>\n",
    "        <Text style={{ fontWeight: 'bold' }}>Conflicts Found:</Text>\n",
    "        {conflicts.length === 0 ? (\n",
    "          <Text>No IMD conflicts detected.</Text>\n",
    "        ) : (\n",
    "          conflicts.map((pair, index) => (\n",
    "            <Text key={index}>{pair[0]} MHz + {pair[1]} MHz → conflict</Text>\n",
    "          ))\n",
    "        )}\n",
    "      </ScrollView>\n",
    "    </SafeAreaView>\n",
    "  );\n",
    "}\n"
   ]
  }
 ],
 "metadata": {
  "kernelspec": {
   "display_name": "Python 3",
   "language": "python",
   "name": "python3"
  },
  "language_info": {
   "codemirror_mode": {
    "name": "ipython",
    "version": 3
   },
   "file_extension": ".py",
   "mimetype": "text/x-python",
   "name": "python",
   "nbconvert_exporter": "python",
   "pygments_lexer": "ipython3",
   "version": "3.11.9"
  }
 },
 "nbformat": 4,
 "nbformat_minor": 5
}
