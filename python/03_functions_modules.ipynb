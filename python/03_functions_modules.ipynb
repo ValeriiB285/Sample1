{
 "cells": [
  {
   "cell_type": "markdown",
   "id": "7cceceee",
   "metadata": {},
   "source": [
    "Ось **розгорнутий контент для третього файлу `03_functions_modules.ipynb`**, який зосереджено на використанні функцій та модулів Python у контексті **інформаційно-аналітичного забезпечення військових штабів**.\n",
    "\n",
    "---\n",
    "\n",
    "# 📘 `03_functions_modules.ipynb`\n",
    "\n",
    "## **Тема: Функції та модулі у військовій аналітиці**\n",
    "\n",
    "---\n",
    "\n",
    "### 🔹 Вступ\n",
    "\n",
    "Функції дозволяють структурувати код, повторно використовувати логіку для аналізу бойових звітів, оцінки ситуацій та генерації звітів. Модулі — це бібліотеки, які розширюють можливості Python.\n",
    "\n",
    "---\n",
    "\n",
    "### 🔸 1. Оголошення функцій\n",
    "\n",
    "#### ✅ Синтаксис:\n",
    "\n",
    "```python\n",
    "def function_name(parameters):\n",
    "    # тіло функції\n",
    "    return result\n",
    "```\n",
    "\n",
    "#### ▶️ Приклад: обчислення рівня ризику за кількістю противника\n",
    "\n",
    "```python\n",
    "def evaluate_risk(enemy_strength):\n",
    "    if enemy_strength > 200:\n",
    "        return \"Високий\"\n",
    "    elif enemy_strength > 100:\n",
    "        return \"Середній\"\n",
    "    else:\n",
    "        return \"Низький\"\n",
    "\n",
    "print(evaluate_risk(150))  # \"Середній\"\n",
    "```\n",
    "\n",
    "---\n",
    "\n",
    "### 🔸 2. Аргументи за замовчуванням\n",
    "\n",
    "```python\n",
    "def assess_readiness(personnel_ready, total=100):\n",
    "    return personnel_ready / total\n",
    "\n",
    "print(assess_readiness(80))  # 0.8\n",
    "```\n",
    "\n",
    "---\n",
    "\n",
    "### 🔸 3. `*args` та `**kwargs`\n",
    "\n",
    "#### ▶️ Сума втрат за днями:\n",
    "\n",
    "```python\n",
    "def total_losses(*days):\n",
    "    return sum(days)\n",
    "\n",
    "print(total_losses(12, 30, 45))  # 87\n",
    "```\n",
    "\n",
    "---\n",
    "\n",
    "### 🔸 4. Використання модулів Python\n",
    "\n",
    "#### 📦 Імпорт стандартних бібліотек:\n",
    "\n",
    "```python\n",
    "import math\n",
    "import random\n",
    "```\n",
    "\n",
    "#### ✅ Приклади:\n",
    "\n",
    "* `math.sqrt()` — корінь із площі сектору\n",
    "* `random.choice()` — вибір випадкового напрямку для моделювання\n",
    "\n",
    "---\n",
    "\n",
    "### 🔸 5. Імпорт з модулів\n",
    "\n",
    "```python\n",
    "from math import sqrt\n",
    "print(sqrt(144))  # 12.0\n",
    "```\n",
    "\n",
    "---\n",
    "\n",
    "### 🔸 6. Створення власного модуля\n",
    "\n",
    "> Створіть файл `analysis_utils.py`:\n",
    "\n",
    "```python\n",
    "def calculate_efficiency(successful_ops, total_ops):\n",
    "    return successful_ops / total_ops\n",
    "```\n",
    "\n",
    "> Використайте у `ipynb`:\n",
    "\n",
    "```python\n",
    "from analysis_utils import calculate_efficiency\n",
    "\n",
    "print(calculate_efficiency(8, 10))  # 0.8\n",
    "```\n",
    "\n",
    "---\n",
    "\n",
    "### 📝 Практичні завдання:\n",
    "\n",
    "1. Створіть функцію, яка на основі втрат і чисельності ворога оцінює результативність дій.\n",
    "2. Напишіть функцію для обрахунку середніх втрат за кілька днів.\n",
    "3. Імпортуйте модуль `random` і змоделюйте напрямок наступу.\n",
    "4. Створіть власний модуль із функціями для оцінки логістичної готовності.\n",
    "\n"
   ]
  },
  {
   "cell_type": "markdown",
   "id": "0a42be17",
   "metadata": {},
   "source": [
    "### Задача 1"
   ]
  },
  {
   "cell_type": "code",
   "execution_count": 3,
   "id": "9df7d942",
   "metadata": {},
   "outputs": [
    {
     "ename": "SyntaxError",
     "evalue": "invalid syntax (601667066.py, line 4)",
     "output_type": "error",
     "traceback": [
      "  \u001b[36mCell\u001b[39m\u001b[36m \u001b[39m\u001b[32mIn[3]\u001b[39m\u001b[32m, line 4\u001b[39m\n\u001b[31m    \u001b[39m\u001b[31mdef results (total_enemy - enemy_loses):\u001b[39m\n                             ^\n\u001b[31mSyntaxError\u001b[39m\u001b[31m:\u001b[39m invalid syntax\n"
     ]
    }
   ],
   "source": [
    "total_enemy = 3000\n",
    "enemy_loses = int(input(\"Введіть втрати противника:\"))\n",
    "\n",
    "def results (total_enemy - enemy_loses):\n",
    "    if total_enemy - enemy_loses < 1500:\n",
    "        return \"Високий\"\n",
    "    elif total_enemy - enemy_loses < 2000:\n",
    "    return \"Середній\"\n",
    "else:\n",
    "return \"Низький\""
   ]
  },
  {
   "cell_type": "code",
   "execution_count": 8,
   "id": "7a82fc93",
   "metadata": {},
   "outputs": [
    {
     "name": "stdout",
     "output_type": "stream",
     "text": [
      "Рівень загрози: Низький\n",
      "Результативність дій: 10.00%\n"
     ]
    }
   ],
   "source": [
    "total_enemy = 3000\n",
    "enemy_loses = int(input(\"Введіть втрати противника: \"))\n",
    "\n",
    "def results(losses):\n",
    "    if losses >= total_enemy:\n",
    "        effectiveness = 100.0\n",
    "        threat_level = \"Відсутній\"\n",
    "    else:\n",
    "        remaining_enemy = total_enemy - losses\n",
    "        effectiveness = (losses / total_enemy) * 100\n",
    "\n",
    "        if remaining_enemy < 1500:\n",
    "            threat_level = \"Високий\"\n",
    "        elif remaining_enemy < 2000:\n",
    "            threat_level = \"Середній\"\n",
    "        else:\n",
    "            threat_level = \"Низький\"\n",
    "\n",
    "    return threat_level, effectiveness\n",
    "\n",
    "threat, percent = results(enemy_loses)\n",
    "print(f\"Рівень загрози: {threat}\")\n",
    "print(f\"Результативність дій: {percent:.2f}%\")"
   ]
  },
  {
   "cell_type": "markdown",
   "id": "d0fec2ca",
   "metadata": {},
   "source": [
    "### Задача 2"
   ]
  },
  {
   "cell_type": "code",
   "execution_count": 12,
   "id": "1d03a96b",
   "metadata": {},
   "outputs": [
    {
     "name": "stdout",
     "output_type": "stream",
     "text": [
      "Втрати по дням: [633, 99999, 99999]\n",
      "Середні втрати: 66877.00\n"
     ]
    }
   ],
   "source": [
    "def average(numbers):\n",
    "    if len(numbers) == 0:\n",
    "        return 0  \n",
    "    return sum(numbers) / len(numbers)\n",
    "\n",
    "days = int(input(\"Введіть кількість діб ведення бойових дій (операції):\"))\n",
    "numbers = []\n",
    "\n",
    "for day in range (1, days + 1 ):\n",
    "    num = int(input(f\"Введіть кількість втрат відповідно дня {day}:\"))\n",
    "    numbers.append(num)\n",
    "\n",
    "numbers.append(num)\n",
    "\n",
    "print(\"Втрати по дням:\", numbers)\n",
    "print(f\"Середні втрати: {average(numbers):.2f}\")"
   ]
  }
 ],
 "metadata": {
  "kernelspec": {
   "display_name": "Python 3",
   "language": "python",
   "name": "python3"
  },
  "language_info": {
   "codemirror_mode": {
    "name": "ipython",
    "version": 3
   },
   "file_extension": ".py",
   "mimetype": "text/x-python",
   "name": "python",
   "nbconvert_exporter": "python",
   "pygments_lexer": "ipython3",
   "version": "3.11.9"
  }
 },
 "nbformat": 4,
 "nbformat_minor": 5
}
