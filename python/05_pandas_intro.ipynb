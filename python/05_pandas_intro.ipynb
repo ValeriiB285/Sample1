{
 "cells": [
  {
   "cell_type": "markdown",
   "id": "c9228658",
   "metadata": {},
   "source": [
    "Ось **розгорнутий контент для файлу `05_pandas_intro.ipynb`**, орієнтований на використання **бібліотеки Pandas у військовій аналітиці**, з прикладами роботи з реальними даними (втрати, напрямки, підрозділи тощо).\n",
    "\n",
    "---\n",
    "\n",
    "# 📘 `05_pandas_intro.ipynb`\n",
    "\n",
    "## **Тема: Pandas для обробки військових даних**\n",
    "\n",
    "---\n",
    "\n",
    "### 🔹 Вступ\n",
    "\n",
    "`pandas` — одна з ключових бібліотек Python для обробки таблиць (табличних даних). Вона дає змогу швидко аналізувати, фільтрувати та агрегувати оперативні й розвідувальні дані для аналітичної підтримки прийняття рішень.\n",
    "\n",
    "---\n",
    "\n",
    "## 🔸 1. Імпорт бібліотеки та читання CSV\n",
    "\n",
    "```python\n",
    "import pandas as pd\n",
    "\n",
    "df = pd.read_csv(\"losses.csv\", encoding=\"utf-8\")\n",
    "df.head()  # переглянути перші 5 рядків\n",
    "```\n",
    "\n",
    "#### ▶️ Приклад CSV `losses.csv`:\n",
    "\n",
    "```csv\n",
    "Дата,Напрямок,Втрати,Підрозділ\n",
    "2025-06-10,Схід,102,1-а мехбр\n",
    "2025-06-11,Схід,134,1-а мехбр\n",
    "2025-06-12,Південь,98,2-а танкбр\n",
    "2025-06-13,Схід,145,3-я артбатр\n",
    "```\n",
    "\n",
    "---\n",
    "\n",
    "## 🔸 2. Основні методи\n",
    "\n",
    "```python\n",
    "df.info()\n",
    "df.describe()\n",
    "df.columns\n",
    "```\n",
    "\n",
    "---\n",
    "\n",
    "## 🔸 3. Фільтрація даних\n",
    "\n",
    "#### ▶️ За напрямком:\n",
    "\n",
    "```python\n",
    "east = df[df[\"Напрямок\"] == \"Схід\"]\n",
    "```\n",
    "\n",
    "#### ▶️ За кількістю втрат > 120:\n",
    "\n",
    "```python\n",
    "df[df[\"Втрати\"] > 120]\n",
    "```\n",
    "\n",
    "---\n",
    "\n",
    "## 🔸 4. Сортування\n",
    "\n",
    "```python\n",
    "df_sorted = df.sort_values(by=\"Втрати\", ascending=False)\n",
    "```\n",
    "\n",
    "---\n",
    "\n",
    "## 🔸 5. Групування\n",
    "\n",
    "#### ▶️ Сумарні втрати по напрямках:\n",
    "\n",
    "```python\n",
    "grouped = df.groupby(\"Напрямок\")[\"Втрати\"].sum()\n",
    "print(grouped)\n",
    "```\n",
    "\n",
    "#### ▶️ Середні втрати по підрозділах:\n",
    "\n",
    "```python\n",
    "avg = df.groupby(\"Підрозділ\")[\"Втрати\"].mean()\n",
    "print(avg)\n",
    "```\n",
    "\n",
    "---\n",
    "\n",
    "## 🔸 6. Додавання нових стовпців\n",
    "\n",
    "```python\n",
    "df[\"Рівень загрози\"] = df[\"Втрати\"].apply(lambda x: \"Високий\" if x > 120 else \"Низький\")\n",
    "```\n",
    "\n",
    "---\n",
    "\n",
    "## 🔸 7. Експорт результатів\n",
    "\n",
    "```python\n",
    "df.to_csv(\"processed_losses.csv\", index=False)\n",
    "```\n",
    "\n",
    "---\n",
    "\n",
    "## 📝 Практичні завдання:\n",
    "\n",
    "1. Зчитати CSV-файл з бойовими втратами та відобразити перші 5 рядків.\n",
    "2. Вивести загальні втрати за кожним напрямком.\n",
    "3. Вивести середні втрати по кожному підрозділу.\n",
    "4. Додати колонку з рівнем загрози.\n",
    "5. Зберегти результат аналізу у новий CSV-файл.\n",
    "\n"
   ]
  },
  {
   "cell_type": "markdown",
   "id": "d5c6d60b",
   "metadata": {},
   "source": [
    "## Задача 1"
   ]
  },
  {
   "cell_type": "code",
   "execution_count": 2,
   "id": "0ac2aaba",
   "metadata": {},
   "outputs": [
    {
     "name": "stdout",
     "output_type": "stream",
     "text": [
      "  Напрямок  Особовий склад  Техніка  Боєприпаси\n",
      "0  Південь              10        3           5\n",
      "1   Північ               5        2           1\n",
      "2     Схід               7        1           4\n",
      "3  Південь               8        0           6\n"
     ]
    }
   ],
   "source": [
    "import pandas as pd\n",
    "df = pd.read_csv(r'C:\\Users\\5103_1\\Documents\\5103-1\\Sample1\\losses.csv.txt')\n",
    "print(df.head())"
   ]
  },
  {
   "cell_type": "markdown",
   "id": "cb334574",
   "metadata": {},
   "source": [
    "## Задача 2"
   ]
  },
  {
   "cell_type": "code",
   "execution_count": 4,
   "id": "85d33a6e",
   "metadata": {},
   "outputs": [
    {
     "name": "stdout",
     "output_type": "stream",
     "text": [
      "          Особовий склад  Техніка  Боєприпаси\n",
      "Напрямок                                     \n",
      "Південь               18        3          11\n",
      "Північ                 5        2           1\n",
      "Схід                   7        1           4\n"
     ]
    }
   ],
   "source": [
    "import pandas as pd\n",
    "file_path = r'C:\\Users\\5103_1\\Documents\\5103-1\\Sample1\\losses.csv.txt'\n",
    "df = pd.read_csv(file_path, encoding='utf-8')\n",
    "total_losses = df.groupby('Напрямок')[['Особовий склад', 'Техніка', 'Боєприпаси']].sum()\n",
    "\n",
    "print(total_losses)"
   ]
  },
  {
   "cell_type": "markdown",
   "id": "ba490580",
   "metadata": {},
   "source": [
    "## Задача 3"
   ]
  },
  {
   "cell_type": "code",
   "execution_count": 5,
   "id": "b4187f20",
   "metadata": {},
   "outputs": [
    {
     "name": "stdout",
     "output_type": "stream",
     "text": [
      "          Особовий склад  Техніка  Боєприпаси\n",
      "Напрямок                                     \n",
      "Південь              9.0      1.5         5.5\n",
      "Північ               5.0      2.0         1.0\n",
      "Схід                 7.0      1.0         4.0\n"
     ]
    }
   ],
   "source": [
    "import pandas as pd\n",
    "df = pd.read_csv(r'C:\\Users\\5103_1\\Documents\\5103-1\\Sample1\\losses.csv.txt', encoding='utf-8')\n",
    "avg_losses = df.groupby('Напрямок')[['Особовий склад', 'Техніка', 'Боєприпаси']].mean()\n",
    "print(avg_losses)\n"
   ]
  },
  {
   "cell_type": "markdown",
   "id": "b44d3685",
   "metadata": {},
   "source": [
    "## Задача 4"
   ]
  },
  {
   "cell_type": "code",
   "execution_count": 6,
   "id": "7ede077a",
   "metadata": {},
   "outputs": [
    {
     "name": "stdout",
     "output_type": "stream",
     "text": [
      "  Напрямок  Особовий склад  Техніка  Боєприпаси   Загроза\n",
      "0  Південь              10        3           5   Високий\n",
      "1   Північ               5        2           1   Високий\n",
      "2     Схід               7        1           4  Середній\n",
      "3  Південь               8        0           6   Високий\n"
     ]
    }
   ],
   "source": [
    "import pandas as pd\n",
    "\n",
    "df = pd.read_csv(r'C:\\Users\\5103_1\\Documents\\5103-1\\Sample1\\losses.csv.txt', encoding='utf-8')\n",
    "\n",
    "def get_threat_level(row):\n",
    "    if row['Особовий склад'] >= 9 or row['Техніка'] >= 2 or row['Боєприпаси'] >= 5:\n",
    "        return 'Високий'\n",
    "    elif row['Особовий склад'] >= 6 or row['Техніка'] >= 1 or row['Боєприпаси'] >= 3:\n",
    "        return 'Середній'\n",
    "    else:\n",
    "        return 'Низький'\n",
    "\n",
    "df['Загроза'] = df.apply(get_threat_level, axis=1)\n",
    "\n",
    "print(df)"
   ]
  },
  {
   "cell_type": "markdown",
   "id": "3527e42a",
   "metadata": {},
   "source": [
    "## Задача 5"
   ]
  },
  {
   "cell_type": "code",
   "execution_count": 7,
   "id": "4bd63868",
   "metadata": {},
   "outputs": [
    {
     "name": "stdout",
     "output_type": "stream",
     "text": [
      "  Напрямок  Особовий склад  Техніка  Боєприпаси   Загроза\n",
      "0  Південь              10        3           5   Високий\n",
      "1   Північ               5        2           1   Високий\n",
      "2     Схід               7        1           4  Середній\n",
      "3  Південь               8        0           6   Високий\n",
      "Файл успішно збережено.\n"
     ]
    }
   ],
   "source": [
    "import pandas as pd\n",
    "\n",
    "df = pd.read_csv(r'C:\\Users\\5103_1\\Documents\\5103-1\\Sample1\\losses.csv.txt', encoding='utf-8')\n",
    "\n",
    "def get_threat_level(row):\n",
    "    if row['Особовий склад'] >= 9 or row['Техніка'] >= 2 or row['Боєприпаси'] >= 5:\n",
    "        return 'Високий'\n",
    "    elif row['Особовий склад'] >= 6 or row['Техніка'] >= 1 or row['Боєприпаси'] >= 3:\n",
    "        return 'Середній'\n",
    "    else:\n",
    "        return 'Низький'\n",
    "\n",
    "df['Загроза'] = df.apply(get_threat_level, axis=1)\n",
    "\n",
    "print(df)\n",
    "\n",
    "\n",
    "\n",
    "df.to_csv(r'C:\\Users\\5103_1\\Documents\\5103-1\\Sample1\\losses_analyzed.csv', index=False, encoding='utf-8-sig')\n",
    "\n",
    "print(\"Файл успішно збережено.\")"
   ]
  }
 ],
 "metadata": {
  "kernelspec": {
   "display_name": "Python 3",
   "language": "python",
   "name": "python3"
  },
  "language_info": {
   "codemirror_mode": {
    "name": "ipython",
    "version": 3
   },
   "file_extension": ".py",
   "mimetype": "text/x-python",
   "name": "python",
   "nbconvert_exporter": "python",
   "pygments_lexer": "ipython3",
   "version": "3.11.9"
  }
 },
 "nbformat": 4,
 "nbformat_minor": 5
}
