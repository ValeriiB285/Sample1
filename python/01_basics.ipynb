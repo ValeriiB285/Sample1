{
 "cells": [
  {
   "cell_type": "markdown",
   "id": "d728c2dc",
   "metadata": {},
   "source": [
    "Ось **розгорнутий контент для першого файлу `01_basics.ipynb`** з орієнтацією на **інформаційно-аналітичну діяльність військових штабів**:\n",
    "\n",
    "---\n",
    "\n",
    "# 📘 `01_basics.ipynb`\n",
    "\n",
    "## **Тема: Основи Python у військовій аналітиці**\n",
    "\n",
    "---\n",
    "\n",
    "### 🔹 Вступ\n",
    "\n",
    "Мета заняття — ознайомитися з базовими конструкціями Python, які стануть фундаментом для подальшої обробки бойових звітів, статистики втрат, даних розвідки та інших джерел інформації.\n",
    "\n",
    "---\n",
    "\n",
    "### 🔸 1. Змінні та типи даних\n",
    "\n",
    "#### ▶️ Основні типи:\n",
    "\n",
    "* `int` — цілі числа (кількість втрат)\n",
    "* `float` — числа з плаваючою комою (відсотки готовності)\n",
    "* `str` — текст (назви підрозділів)\n",
    "* `bool` — логічні значення (готовність: True/False)\n",
    "\n",
    "#### ✅ Приклад:\n",
    "\n",
    "```python\n",
    "enemy_losses = 120\n",
    "readiness = 0.85\n",
    "unit_name = \"1-а механізована бригада\"\n",
    "is_ready = True\n",
    "```\n",
    "\n",
    "---\n",
    "\n",
    "### 🔸 2. Вивід інформації\n",
    "\n",
    "```python\n",
    "print(f\"{unit_name} має рівень готовності {readiness * 100}%\")\n",
    "print(\"Втрати противника:\", enemy_losses)\n",
    "```\n",
    "\n",
    "---\n",
    "\n",
    "### 🔸 3. Арифметичні оператори\n",
    "\n",
    "* `+`, `-`, `*`, `/`, `//`, `%`, `**`\n",
    "\n",
    "#### ✅ Приклад:\n",
    "\n",
    "```python\n",
    "planned = 250\n",
    "actual = 187\n",
    "shortfall = planned - actual\n",
    "print(\"Недокомплект:\", shortfall)\n",
    "```\n",
    "\n",
    "---\n",
    "\n",
    "### 🔸 4. Логічні оператори\n",
    "\n",
    "* `==`, `!=`, `<`, `>`, `<=`, `>=`\n",
    "* `and`, `or`, `not`\n",
    "\n",
    "#### ✅ Приклад:\n",
    "\n",
    "```python\n",
    "if readiness > 0.9 and enemy_losses > 100:\n",
    "    print(\"Можна перейти до активних дій.\")\n",
    "else:\n",
    "    print(\"Потрібна додаткова підготовка.\")\n",
    "```\n",
    "\n",
    "---\n",
    "\n",
    "### 🔸 5. Введення даних з клавіатури\n",
    "\n",
    "```python\n",
    "direction = input(\"Введіть напрямок атаки: \")\n",
    "print(f\"Обрано напрямок: {direction}\")\n",
    "```\n",
    "\n",
    "---\n",
    "\n",
    "### 🔸 6. Умовні конструкції `if`, `elif`, `else`\n",
    "\n",
    "#### ✅ Приклад:\n",
    "\n",
    "```python\n",
    "if enemy_losses > 200:\n",
    "    print(\"Ворог зазнав значних втрат\")\n",
    "elif enemy_losses > 100:\n",
    "    print(\"Втрати середні\")\n",
    "else:\n",
    "    print(\"Втрати незначні\")\n",
    "```\n",
    "\n",
    "---\n",
    "\n",
    "### 🔸 7. Цикл `for` + `range()`\n",
    "\n",
    "```python\n",
    "for day in range(1, 6):\n",
    "    print(f\"День {day}: Аналіз втрат\")\n",
    "```\n",
    "\n",
    "---\n",
    "\n",
    "### 🔸 8. Цикл `while`\n",
    "\n",
    "```python\n",
    "ready = 0.5\n",
    "while ready < 0.9:\n",
    "    print(f\"Поточна готовність: {ready}\")\n",
    "    ready += 0.1\n",
    "```\n",
    "\n",
    "---\n",
    "\n",
    "### 📝 Практичні завдання:\n",
    "\n",
    "1. Вивести повідомлення про рівень втрат противника на основі введеного числа.\n",
    "2. Порахувати середній рівень готовності трьох підрозділів.\n",
    "3. Створити цикл, що виводить день і номер сектора з номером розрахунку.\n",
    "\n",
    "\n"
   ]
  },
  {
   "cell_type": "markdown",
   "id": "bded2cd0",
   "metadata": {},
   "source": [
    "### Завдання 4"
   ]
  },
  {
   "cell_type": "code",
   "execution_count": 3,
   "id": "a7b46bcf",
   "metadata": {},
   "outputs": [
    {
     "name": "stdout",
     "output_type": "stream",
     "text": [
      "можна перейти до активних дій\n"
     ]
    }
   ],
   "source": [
    "readiness = 0.91\n",
    "enemy_loses = 101\n",
    "\n",
    "if readiness > 0.9 and enemy_loses > 100:\n",
    "    print(\"можна перейти до активних дій\") \n",
    "else: \n",
    "    print(\"Need some preparation\")"
   ]
  },
  {
   "cell_type": "markdown",
   "id": "7a312f5b",
   "metadata": {},
   "source": [
    "### Задача 1"
   ]
  },
  {
   "cell_type": "code",
   "execution_count": 8,
   "id": "dc807cc6",
   "metadata": {},
   "outputs": [
    {
     "name": "stdout",
     "output_type": "stream",
     "text": [
      "Enemy loses so much\n"
     ]
    }
   ],
   "source": [
    "\n",
    "enemy_loses = int(input(\"введіть дані про втрату противника\"))\n",
    "if enemy_loses > 300:\n",
    "    print(\"Enemy loses so much\")\n",
    "elif enemy_loses < 300:\n",
    "    print(\"enemy loses not hight\")"
   ]
  },
  {
   "cell_type": "markdown",
   "id": "c7217dd4",
   "metadata": {},
   "source": [
    "### Задача 2\n"
   ]
  },
  {
   "cell_type": "code",
   "execution_count": 12,
   "id": "0dc94ca9",
   "metadata": {},
   "outputs": [
    {
     "name": "stdout",
     "output_type": "stream",
     "text": [
      "Середній рівень готовності бригад: 75.67%\n",
      "Бригади обмежено готові до виконання завдань\n"
     ]
    }
   ],
   "source": [
    "brigade_readiness1 = float(input(\"Введіть відсоток підготовленості бригади #1\"))\n",
    "brigade_readiness2 = float(input(\"Введіть відсоток підготовленості бригади #2\"))\n",
    "brigade_readiness3 = float(input(\"Введіть відсоток підготовленості бригади #3\"))\n",
    "\n",
    "units = (brigade_readiness1 + brigade_readiness2 + brigade_readiness3)/3\n",
    "\n",
    "\n",
    "print(f\"Середній рівень готовності бригад: {units:.2f}%\")\n",
    "if units == 100:\n",
    "    print(\"Бригади готові до виконання завдань\")\n",
    "elif 70 <= units < 100:\n",
    "    print(\"Бригади обмежено готові до виконання завдань\")\n",
    "elif units < 70:\n",
    "    print(\"Бригади не готові до виконання завдань\")"
   ]
  },
  {
   "cell_type": "markdown",
   "id": "0ca018e2",
   "metadata": {},
   "source": [
    "### Задача 3"
   ]
  },
  {
   "cell_type": "code",
   "execution_count": 13,
   "id": "0e8180a3",
   "metadata": {},
   "outputs": [
    {
     "name": "stdout",
     "output_type": "stream",
     "text": [
      "День 1, Сектор 1, Номер розрахунку: 1\n",
      "День 1, Сектор 2, Номер розрахунку: 2\n",
      "День 1, Сектор 3, Номер розрахунку: 3\n",
      "День 2, Сектор 1, Номер розрахунку: 4\n",
      "День 2, Сектор 2, Номер розрахунку: 5\n",
      "День 2, Сектор 3, Номер розрахунку: 6\n",
      "День 3, Сектор 1, Номер розрахунку: 7\n",
      "День 3, Сектор 2, Номер розрахунку: 8\n",
      "День 3, Сектор 3, Номер розрахунку: 9\n",
      "День 4, Сектор 1, Номер розрахунку: 10\n",
      "День 4, Сектор 2, Номер розрахунку: 11\n",
      "День 4, Сектор 3, Номер розрахунку: 12\n",
      "День 5, Сектор 1, Номер розрахунку: 13\n",
      "День 5, Сектор 2, Номер розрахунку: 14\n",
      "День 5, Сектор 3, Номер розрахунку: 15\n",
      "День 6, Сектор 1, Номер розрахунку: 16\n",
      "День 6, Сектор 2, Номер розрахунку: 17\n",
      "День 6, Сектор 3, Номер розрахунку: 18\n",
      "День 7, Сектор 1, Номер розрахунку: 19\n",
      "День 7, Сектор 2, Номер розрахунку: 20\n",
      "День 7, Сектор 3, Номер розрахунку: 21\n"
     ]
    }
   ],
   "source": [
    "days = 7       \n",
    "sectors = 3     \n",
    "\n",
    "for day in range(1, days + 1):\n",
    "    for sector in range(1, sectors + 1):\n",
    "        calculation_number = (day - 1) * sectors + sector\n",
    "        print(f\"День {day}, Сектор {sector}, Номер розрахунку: {calculation_number}\")\n"
   ]
  }
 ],
 "metadata": {
  "kernelspec": {
   "display_name": "Python 3",
   "language": "python",
   "name": "python3"
  },
  "language_info": {
   "codemirror_mode": {
    "name": "ipython",
    "version": 3
   },
   "file_extension": ".py",
   "mimetype": "text/x-python",
   "name": "python",
   "nbconvert_exporter": "python",
   "pygments_lexer": "ipython3",
   "version": "3.11.9"
  }
 },
 "nbformat": 4,
 "nbformat_minor": 5
}
