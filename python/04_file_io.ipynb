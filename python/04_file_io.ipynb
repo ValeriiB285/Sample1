{
 "cells": [
  {
   "cell_type": "markdown",
   "id": "fe40732e",
   "metadata": {},
   "source": [
    "Ось **розгорнутий контент для файлу `04_file_io.ipynb`**, присвячений **роботі з файлами у контексті інформаційно-аналітичного забезпечення військових штабів**.\n",
    "\n",
    "---\n",
    "\n",
    "# 📘 `04_file_io.ipynb`\n",
    "\n",
    "## **Тема: Робота з файлами звітності**\n",
    "\n",
    "---\n",
    "\n",
    "### 🔹 Вступ\n",
    "\n",
    "Файли — основне джерело зберігання оперативних зведень, звітів, донесень, оцінок втрат та інших структурованих чи напівструктурованих даних. Python дозволяє легко читати та записувати інформацію, що критично для штабної аналітики.\n",
    "\n",
    "---\n",
    "\n",
    "### 🔸 1. Зчитування текстових файлів\n",
    "\n",
    "#### ✅ Структура файлу `daily_report.txt`:\n",
    "\n",
    "```\n",
    "Дата: 2025-06-16\n",
    "Напрям: Схід\n",
    "Втрати противника: 124\n",
    "Підрозділи: 1-а мехбр, 3-я танкбр\n",
    "```\n",
    "\n",
    "#### ▶️ Зчитування:\n",
    "\n",
    "```python\n",
    "with open(\"daily_report.txt\", \"r\", encoding=\"utf-8\") as f:\n",
    "    content = f.read()\n",
    "\n",
    "print(content)\n",
    "```\n",
    "\n",
    "---\n",
    "\n",
    "### 🔸 2. Обробка пострічково\n",
    "\n",
    "```python\n",
    "with open(\"daily_report.txt\", \"r\", encoding=\"utf-8\") as f:\n",
    "    for line in f:\n",
    "        print(\">>\", line.strip())\n",
    "```\n",
    "\n",
    "---\n",
    "\n",
    "### 🔸 3. Запис файлу\n",
    "\n",
    "#### ▶️ Звіт-аналітика:\n",
    "\n",
    "```python\n",
    "summary = \"Звіт сформовано.\\nПротивник зазнав значних втрат.\\nРекомендація: перейти до активних дій.\"\n",
    "\n",
    "with open(\"summary_report.txt\", \"w\", encoding=\"utf-8\") as f:\n",
    "    f.write(summary)\n",
    "```\n",
    "\n",
    "---\n",
    "\n",
    "### 🔸 4. Додавання інформації у файл\n",
    "\n",
    "```python\n",
    "with open(\"log.txt\", \"a\", encoding=\"utf-8\") as f:\n",
    "    f.write(\"🔹 Новий запис: аналіз за напрямком Південь\\n\")\n",
    "```\n",
    "\n",
    "---\n",
    "\n",
    "### 🔸 5. Робота з CSV-файлами\n",
    "\n",
    "> Файл `losses.csv`:\n",
    "\n",
    "```csv\n",
    "Дата,Напрямок,Втрати\n",
    "2025-06-10,Схід,102\n",
    "2025-06-11,Схід,134\n",
    "2025-06-12,Південь,98\n",
    "```\n",
    "\n",
    "#### ▶️ Зчитування з `pandas`:\n",
    "\n",
    "```python\n",
    "import pandas as pd\n",
    "df = pd.read_csv(\"losses.csv\")\n",
    "print(df)\n",
    "```\n",
    "\n",
    "#### ▶️ Запис:\n",
    "\n",
    "```python\n",
    "df.to_csv(\"losses_updated.csv\", index=False)\n",
    "```\n",
    "\n",
    "---\n",
    "\n",
    "### 🔸 6. Фільтрація за напрямком\n",
    "\n",
    "```python\n",
    "east_df = df[df[\"Напрямок\"] == \"Схід\"]\n",
    "print(east_df)\n",
    "```\n",
    "\n",
    "---\n",
    "\n",
    "### 📝 Практичні завдання:\n",
    "\n",
    "1. Зчитати файл бойового донесення та вивести кількість втрат противника.\n",
    "2. Створити файл `summary.txt`, у якому підсумувати ситуацію за день.\n",
    "3. Зчитати CSV-файл зі втратами по напрямках і вивести дані лише за напрямком \"Південь\".\n",
    "4. Додати лог-файл, куди записується кожен факт зчитування.\n",
    "\n"
   ]
  },
  {
   "cell_type": "markdown",
   "id": "2fb56940",
   "metadata": {},
   "source": []
  },
  {
   "cell_type": "markdown",
   "id": "59bb4552",
   "metadata": {},
   "source": [
    "### Задача 1\n"
   ]
  },
  {
   "cell_type": "code",
   "execution_count": 5,
   "id": "a2b6053a",
   "metadata": {},
   "outputs": [
    {
     "name": "stdout",
     "output_type": "stream",
     "text": [
      "Загальна кількість втрат противника: 38\n"
     ]
    }
   ],
   "source": [
    "def count_enemy_losses(filename):\n",
    "    total_losses = 0\n",
    "    with open(filename, 'r', encoding='utf-8') as file:\n",
    "        for line in file:\n",
    "            if '-' in line:\n",
    "                parts = line.split('-')\n",
    "                if len(parts) == 2:\n",
    "                    try:\n",
    "                        losses = int(parts[1].strip())\n",
    "                        total_losses += losses\n",
    "                    except ValueError:\n",
    "                        pass  \n",
    "    return total_losses\n",
    "\n",
    "filename = r'C:\\Users\\5103_1\\Documents\\5103-1\\Sample1\\пбд.txt'\n",
    "losses = count_enemy_losses(filename)\n",
    "print(f\"Загальна кількість втрат противника: {losses}\")"
   ]
  },
  {
   "cell_type": "markdown",
   "id": "d470aa49",
   "metadata": {},
   "source": [
    "## Задача 2"
   ]
  },
  {
   "cell_type": "code",
   "execution_count": 6,
   "id": "9b8fc8a5",
   "metadata": {},
   "outputs": [
    {
     "name": "stdout",
     "output_type": "stream",
     "text": [
      "Файл summary.txt створено з підсумком.\n"
     ]
    }
   ],
   "source": [
    "def count_enemy_losses(filename):\n",
    "    total_losses = 0\n",
    "    with open(filename, 'r', encoding='utf-8') as file:\n",
    "        for line in file:\n",
    "            if '-' in line:\n",
    "                parts = line.split('-')\n",
    "                if len(parts) == 2:\n",
    "                    try:\n",
    "                        losses = int(parts[1].strip())\n",
    "                        total_losses += losses\n",
    "                    except ValueError:\n",
    "                        pass\n",
    "    return total_losses\n",
    "\n",
    "filename = r'C:\\Users\\5103_1\\Documents\\5103-1\\Sample1\\пбд.txt'\n",
    "losses = count_enemy_losses(filename)\n",
    "\n",
    "with open('summary.txt', 'w', encoding='utf-8') as f_summary:\n",
    "    f_summary.write(f\"Підсумок бойового донесення за день:\\n\")\n",
    "    f_summary.write(f\"Загальна кількість втрат противника: {losses}\\n\")\n",
    "\n",
    "print(\"Файл summary.txt створено з підсумком.\")"
   ]
  },
  {
   "cell_type": "markdown",
   "id": "32931b48",
   "metadata": {},
   "source": [
    "## Задача 3"
   ]
  },
  {
   "cell_type": "code",
   "execution_count": 7,
   "id": "9b82d885",
   "metadata": {},
   "outputs": [
    {
     "name": "stdout",
     "output_type": "stream",
     "text": [
      "Дані за напрямком Південь:\n",
      "{'Напрямок': 'Південь', 'Особовий склад': '10', 'Техніка': '3', 'Боєприпаси': '5'}\n",
      "{'Напрямок': 'Південь', 'Особовий склад': '8', 'Техніка': '0', 'Боєприпаси': '6'}\n"
     ]
    }
   ],
   "source": [
    "import csv\n",
    "\n",
    "filename = r'C:\\Users\\5103_1\\Documents\\5103-1\\Sample1\\losses.csv.txt'\n",
    "\n",
    "with open(filename, 'r', encoding='utf-8') as csvfile:\n",
    "    reader = csv.DictReader(csvfile)\n",
    "    \n",
    "    print(\"Дані за напрямком Південь:\")\n",
    "    for row in reader:\n",
    "        if row['Напрямок'] == 'Південь':\n",
    "            print(row)"
   ]
  },
  {
   "cell_type": "markdown",
   "id": "e949d16c",
   "metadata": {},
   "source": [
    "## Задача 4"
   ]
  },
  {
   "cell_type": "code",
   "execution_count": null,
   "id": "d87953ab",
   "metadata": {},
   "outputs": [
    {
     "name": "stdout",
     "output_type": "stream",
     "text": [
      "Загальна кількість втрат противника: 38\n"
     ]
    }
   ],
   "source": [
    "def count_enemy_losses(filename, log_filename='read_log.txt'):\n",
    "    total_losses = 0\n",
    "    with open(filename, 'r', encoding='utf-8') as file, \\\n",
    "         open(log_filename, 'a', encoding='utf-8') as log_file:  \n",
    "        for line_number, line in enumerate(file, start=1):\n",
    "            log_file.write(f\"Прочитано рядок {line_number}: {line.strip()}\\n\")\n",
    "            \n",
    "            if '-' in line:\n",
    "                parts = line.split('-')\n",
    "                if len(parts) == 2:\n",
    "                    try:\n",
    "                        losses = int(parts[1].strip())\n",
    "                        total_losses += losses\n",
    "                    except ValueError:\n",
    "                        pass\n",
    "    return total_losses\n",
    "\n",
    "filename = r'C:\\Users\\5103_1\\Documents\\5103-1\\Sample1\\пбд.txt'\n",
    "losses = count_enemy_losses(filename)\n",
    "print(f\"Загальна кількість втрат противника: {losses}\")"
   ]
  }
 ],
 "metadata": {
  "kernelspec": {
   "display_name": "Python 3",
   "language": "python",
   "name": "python3"
  },
  "language_info": {
   "codemirror_mode": {
    "name": "ipython",
    "version": 3
   },
   "file_extension": ".py",
   "mimetype": "text/x-python",
   "name": "python",
   "nbconvert_exporter": "python",
   "pygments_lexer": "ipython3",
   "version": "3.11.9"
  }
 },
 "nbformat": 4,
 "nbformat_minor": 5
}
